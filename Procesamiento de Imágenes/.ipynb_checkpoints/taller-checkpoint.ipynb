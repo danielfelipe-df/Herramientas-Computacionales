{
 "cells": [
  {
   "cell_type": "code",
   "execution_count": null,
   "metadata": {},
   "outputs": [],
   "source": [
    "import argparse as arg\n",
    "import numpy as np \n",
    "import pylab as pyl\n",
    "from scipy.misc import imread\n",
    "import matplotlib.pyplot as plt\n",
    "import matplotlib.image as mpimg\n",
    "import scipy.ndimage as nd"
   ]
  },
  {
   "cell_type": "code",
   "execution_count": null,
   "metadata": {},
   "outputs": [],
   "source": [
    "parser = arg.ArgumentParser(description = 'Hola. Hey')\n",
    "parser.add_argument(imname, hz, dx)"
   ]
  },
  {
   "cell_type": "code",
   "execution_count": null,
   "metadata": {},
   "outputs": [],
   "source": [
    "def borders(jpg):\n",
    "    kernel = np.array([[1,0,-1],[1,0,-1],[1,0,-1]])\n",
    "    vertical = nd.convolve(jpg, kernel)\n",
    "    print(type(vertical))\n",
    "    print(vertical)\n",
    "    plt.imshow(vertical, cmap='gray')\n",
    "    plt.show()\n",
    "    \n",
    "    kernel = np.array([[1,1,1],[0,0,0],[-1,-1,-1]])\n",
    "    horizontal = nd.convolve(jpg, kernel)\n",
    "    print(type(horizontal))\n",
    "    print(horizontal)\n",
    "    plt.imshow(horizontal, cmap='gray')\n",
    "    plt.show()\n",
    "\n",
    "    return vertical, horizontal"
   ]
  },
  {
   "cell_type": "code",
   "execution_count": null,
   "metadata": {},
   "outputs": [],
   "source": [
    "image = imread(\"Bolas1.tif\", mode='L')\n",
    "print(type(image))\n",
    "print(image)\n",
    "plt.imshow(image, cmap='gray')\n",
    "plt.show()"
   ]
  },
  {
   "cell_type": "code",
   "execution_count": null,
   "metadata": {},
   "outputs": [],
   "source": [
    "image = imread(\"Bolas1.tif\", mode='L')\n",
    "print(type(image))\n",
    "print(image)\n",
    "plt.imshow(image, cmap='gray')\n",
    "plt.show()"
   ]
  },
  {
   "cell_type": "code",
   "execution_count": null,
   "metadata": {},
   "outputs": [],
   "source": [
    "imbin = pyl.where(image<50,0,255)\n",
    "print(type(imbin))\n",
    "print(imbin)\n",
    "plt.imshow(imbin, cmap='gray')\n",
    "plt.show()"
   ]
  },
  {
   "cell_type": "code",
   "execution_count": null,
   "metadata": {},
   "outputs": [],
   "source": [
    "vertical, horizontal = borders(imbin)\n",
    "labels1 , number_labels1 = nd.label(imbin)\n",
    "plt.imshow(labels1)\n",
    "plt.colorbar()\n",
    "plt.show()\n",
    "print(number_labels1)\n",
    "#print(labels1)"
   ]
  },
  {
   "cell_type": "code",
   "execution_count": null,
   "metadata": {},
   "outputs": [],
   "source": [
    "for i in range(number_labels1):\n",
    "    centers = nd.center_of_mass(imbin, labels1, i+1)\n",
    "    print(centers)\n",
    "labels2 , number_labels2 = nd.label(vertical)\n",
    "#print(number_labels2)\n",
    "#print(labels2)\n",
    "labels3 , number_labels3 = nd.label(horizontal)\n",
    "#print(number_labels3)\n",
    "#print(labels3)\n",
    "#borders(image)\n",
    "#borders(im_filtrada)"
   ]
  },
  {
   "cell_type": "code",
   "execution_count": null,
   "metadata": {},
   "outputs": [],
   "source": []
  }
 ],
 "metadata": {
  "kernelspec": {
   "display_name": "Python 3",
   "language": "python",
   "name": "python3"
  },
  "language_info": {
   "codemirror_mode": {
    "name": "ipython",
    "version": 3
   },
   "file_extension": ".py",
   "mimetype": "text/x-python",
   "name": "python",
   "nbconvert_exporter": "python",
   "pygments_lexer": "ipython3",
   "version": "3.6.6"
  }
 },
 "nbformat": 4,
 "nbformat_minor": 2
}
